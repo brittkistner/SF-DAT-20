{
 "cells": [
  {
   "cell_type": "markdown",
   "metadata": {},
   "source": [
    "# Brittney Kistner \n",
    "## HW1: Titanic"
   ]
  },
  {
   "cell_type": "code",
   "execution_count": 5,
   "metadata": {
    "collapsed": false
   },
   "outputs": [],
   "source": [
    "import pandas as pd \n",
    "import os\n",
    "os.chdir('/Users/bkistner/Desktop/ga_data_science/projects/SF-DAT-20/Data') \n",
    "data = pd.read_csv('titanic.csv')"
   ]
  },
  {
   "cell_type": "code",
   "execution_count": 6,
   "metadata": {
    "collapsed": false
   },
   "outputs": [
    {
     "data": {
      "text/html": [
       "<div>\n",
       "<table border=\"1\" class=\"dataframe\">\n",
       "  <thead>\n",
       "    <tr style=\"text-align: right;\">\n",
       "      <th></th>\n",
       "      <th>survived</th>\n",
       "      <th>pclass</th>\n",
       "      <th>name</th>\n",
       "      <th>sex</th>\n",
       "      <th>age</th>\n",
       "      <th>sibsp</th>\n",
       "      <th>parch</th>\n",
       "      <th>ticket</th>\n",
       "      <th>fare</th>\n",
       "      <th>cabin</th>\n",
       "      <th>embarked</th>\n",
       "    </tr>\n",
       "  </thead>\n",
       "  <tbody>\n",
       "    <tr>\n",
       "      <th>0</th>\n",
       "      <td>0</td>\n",
       "      <td>3</td>\n",
       "      <td>Braund, Mr. Owen Harris</td>\n",
       "      <td>male</td>\n",
       "      <td>22</td>\n",
       "      <td>1</td>\n",
       "      <td>0</td>\n",
       "      <td>A/5 21171</td>\n",
       "      <td>7.2500</td>\n",
       "      <td>NaN</td>\n",
       "      <td>S</td>\n",
       "    </tr>\n",
       "    <tr>\n",
       "      <th>1</th>\n",
       "      <td>1</td>\n",
       "      <td>1</td>\n",
       "      <td>Cumings, Mrs. John Bradley (Florence Briggs Th...</td>\n",
       "      <td>female</td>\n",
       "      <td>38</td>\n",
       "      <td>1</td>\n",
       "      <td>0</td>\n",
       "      <td>PC 17599</td>\n",
       "      <td>71.2833</td>\n",
       "      <td>C85</td>\n",
       "      <td>C</td>\n",
       "    </tr>\n",
       "    <tr>\n",
       "      <th>2</th>\n",
       "      <td>1</td>\n",
       "      <td>3</td>\n",
       "      <td>Heikkinen, Miss. Laina</td>\n",
       "      <td>female</td>\n",
       "      <td>26</td>\n",
       "      <td>0</td>\n",
       "      <td>0</td>\n",
       "      <td>STON/O2. 3101282</td>\n",
       "      <td>7.9250</td>\n",
       "      <td>NaN</td>\n",
       "      <td>S</td>\n",
       "    </tr>\n",
       "    <tr>\n",
       "      <th>3</th>\n",
       "      <td>1</td>\n",
       "      <td>1</td>\n",
       "      <td>Futrelle, Mrs. Jacques Heath (Lily May Peel)</td>\n",
       "      <td>female</td>\n",
       "      <td>35</td>\n",
       "      <td>1</td>\n",
       "      <td>0</td>\n",
       "      <td>113803</td>\n",
       "      <td>53.1000</td>\n",
       "      <td>C123</td>\n",
       "      <td>S</td>\n",
       "    </tr>\n",
       "    <tr>\n",
       "      <th>4</th>\n",
       "      <td>0</td>\n",
       "      <td>3</td>\n",
       "      <td>Allen, Mr. William Henry</td>\n",
       "      <td>male</td>\n",
       "      <td>35</td>\n",
       "      <td>0</td>\n",
       "      <td>0</td>\n",
       "      <td>373450</td>\n",
       "      <td>8.0500</td>\n",
       "      <td>NaN</td>\n",
       "      <td>S</td>\n",
       "    </tr>\n",
       "  </tbody>\n",
       "</table>\n",
       "</div>"
      ],
      "text/plain": [
       "   survived  pclass                                               name  \\\n",
       "0         0       3                            Braund, Mr. Owen Harris   \n",
       "1         1       1  Cumings, Mrs. John Bradley (Florence Briggs Th...   \n",
       "2         1       3                             Heikkinen, Miss. Laina   \n",
       "3         1       1       Futrelle, Mrs. Jacques Heath (Lily May Peel)   \n",
       "4         0       3                           Allen, Mr. William Henry   \n",
       "\n",
       "      sex  age  sibsp  parch            ticket     fare cabin embarked  \n",
       "0    male   22      1      0         A/5 21171   7.2500   NaN        S  \n",
       "1  female   38      1      0          PC 17599  71.2833   C85        C  \n",
       "2  female   26      0      0  STON/O2. 3101282   7.9250   NaN        S  \n",
       "3  female   35      1      0            113803  53.1000  C123        S  \n",
       "4    male   35      0      0            373450   8.0500   NaN        S  "
      ]
     },
     "execution_count": 6,
     "metadata": {},
     "output_type": "execute_result"
    }
   ],
   "source": [
    "data.head()"
   ]
  },
  {
   "cell_type": "markdown",
   "metadata": {},
   "source": [
    "1) How many passengers are in our passenger list? From here forward, we’ll assume our dataset represents the full passenger list for the Titanic."
   ]
  },
  {
   "cell_type": "code",
   "execution_count": 7,
   "metadata": {
    "collapsed": false
   },
   "outputs": [
    {
     "name": "stdout",
     "output_type": "stream",
     "text": [
      "0\n"
     ]
    },
    {
     "data": {
      "text/plain": [
       "891"
      ]
     },
     "execution_count": 7,
     "metadata": {},
     "output_type": "execute_result"
    }
   ],
   "source": [
    "#Check if there are any null passengers\n",
    "print data.isnull().sum()['name'] \n",
    "len(data)"
   ]
  },
  {
   "cell_type": "markdown",
   "metadata": {},
   "source": [
    "2) What is the overall survival rate?"
   ]
  },
  {
   "cell_type": "code",
   "execution_count": 8,
   "metadata": {
    "collapsed": false
   },
   "outputs": [
    {
     "data": {
      "text/plain": [
       "'Survival rate of 38.38%'"
      ]
     },
     "execution_count": 8,
     "metadata": {},
     "output_type": "execute_result"
    }
   ],
   "source": [
    "# Check if there are any null values in the survived column\n",
    "survival_rate = round((len(data[data['survived']==1])/float(len(data)))*100,2)\n",
    "'Survival rate of %s%%' % survival_rate"
   ]
  },
  {
   "cell_type": "markdown",
   "metadata": {},
   "source": [
    "3) How many male passengers were onboard?"
   ]
  },
  {
   "cell_type": "code",
   "execution_count": 9,
   "metadata": {
    "collapsed": false
   },
   "outputs": [
    {
     "data": {
      "text/plain": [
       "'There were 577 men'"
      ]
     },
     "execution_count": 9,
     "metadata": {},
     "output_type": "execute_result"
    }
   ],
   "source": [
    "data.isnull()['sex'] #Check if any values under sex are null\n",
    "number_of_males = len(data[data['sex']=='male'])\n",
    "'There were %s men' % number_of_males\n"
   ]
  },
  {
   "cell_type": "markdown",
   "metadata": {},
   "source": [
    "4) How many female passengers were onboard?"
   ]
  },
  {
   "cell_type": "code",
   "execution_count": 10,
   "metadata": {
    "collapsed": false
   },
   "outputs": [
    {
     "data": {
      "text/plain": [
       "'There were 314 women'"
      ]
     },
     "execution_count": 10,
     "metadata": {},
     "output_type": "execute_result"
    }
   ],
   "source": [
    "number_of_females = len(data[data['sex']=='female'])\n",
    "'There were %s women' % number_of_females"
   ]
  },
  {
   "cell_type": "markdown",
   "metadata": {},
   "source": [
    "5) What is the overall survival rate of male passengers?"
   ]
  },
  {
   "cell_type": "code",
   "execution_count": 11,
   "metadata": {
    "collapsed": false
   },
   "outputs": [
    {
     "data": {
      "text/plain": [
       "'Male survival rate of 12.0%'"
      ]
     },
     "execution_count": 11,
     "metadata": {},
     "output_type": "execute_result"
    }
   ],
   "source": [
    "male = data['sex'] == 'male'\n",
    "survived = data['survived'] == 1\n",
    "number_of_male_survivors = len(data[male&survived])\n",
    "male_survival_rate = round(number_of_male_survivors/float(len(data)),2)*100\n",
    "'Male survival rate of %s%%' % male_survival_rate"
   ]
  },
  {
   "cell_type": "markdown",
   "metadata": {},
   "source": [
    "6) What is the overall survival rate of female passengers?"
   ]
  },
  {
   "cell_type": "code",
   "execution_count": 12,
   "metadata": {
    "collapsed": false
   },
   "outputs": [
    {
     "data": {
      "text/plain": [
       "'Female survival rate of 26.0%'"
      ]
     },
     "execution_count": 12,
     "metadata": {},
     "output_type": "execute_result"
    }
   ],
   "source": [
    "female = data['sex'] == 'female'\n",
    "survived = data['survived'] ==1\n",
    "number_of_female_survivors = len(data[female&survived])\n",
    "female_survival_rate = round(number_of_female_survivors/float(len(data)),2)*100\n",
    "'Female survival rate of %s%%' % female_survival_rate"
   ]
  },
  {
   "cell_type": "markdown",
   "metadata": {},
   "source": [
    "7) What is the average age of all passengers onboard?\n",
    "    * How did you calculate this average age?\n",
    "    * Note that some of the passengers do not have an age value. How did you deal with this? What are some other ways of dealing with this?"
   ]
  },
  {
   "cell_type": "code",
   "execution_count": 63,
   "metadata": {
    "collapsed": false
   },
   "outputs": [
    {
     "name": "stdout",
     "output_type": "stream",
     "text": [
      "Total number of passengers where an age value is missing:   0\n",
      "Total number of passengers aboard:   891\n",
      "Percent of passengers missing an age:   0.0%\n",
      "\n",
      "\n",
      "The average age when the null age values removed from data: 29.7 years\n",
      "\n",
      "\n",
      "The average age when the null age values are populated with the average age: 29.7 years\n"
     ]
    }
   ],
   "source": [
    "# Number of null age values\n",
    "number_of_missing_ages = (len(data) - data['age'].count())\n",
    "print \"Total number of passengers where an age value is missing:   %s\" % number_of_missing_ages\n",
    "print \"Total number of passengers aboard:   %s\" % len(data)\n",
    "print \"Percent of passengers missing an age:   %s%%\" % round((number_of_missing_ages/float(len(data)))*100,2)\n",
    "\n",
    "\n",
    "# There are a couple of approaches we can take to calculating the average age of passengers:\n",
    "\n",
    "# Option 1\n",
    "# Take the average age of passengers exlcluding null rows\n",
    "average_age_with_null_age_values_removed = round(data['age'].mean(),2)\n",
    "print \"\\n\"\n",
    "print \"The average age when the null age values removed from data: %s years\" % average_age_with_null_age_values_removed\n",
    "\n",
    "# Option 2\n",
    "# Populate the null values with the average age\n",
    "data['age'].fillna(data['age'].mean(), inplace=True)\n",
    "average_age = round(data['age'].mean(),2)\n",
    "print \"\\n\"\n",
    "print \"The average age when the null age values are populated with the average age: %s years\" % average_age\n",
    "\n",
    "# Neither option is a good representation of the average age of all passengers on board.\n",
    "\n",
    "# A couple of other ways to compensate for missing data \n",
    "# would be to determine if a correlation between the age and other known data.\n",
    "\n",
    "# However, the technique of dealing with missing data is dependent on the cost of patching the \n",
    "# data vs. throwing the data out.\n",
    "\n",
    "# I'm sure there are more advanced techniques to address the problem of missing data.  Something I hope to learn more about.\n"
   ]
  },
  {
   "cell_type": "markdown",
   "metadata": {},
   "source": [
    "8) What is the average age of passengers who survived?"
   ]
  },
  {
   "cell_type": "code",
   "execution_count": 35,
   "metadata": {
    "collapsed": false
   },
   "outputs": [
    {
     "name": "stdout",
     "output_type": "stream",
     "text": [
      "Average age of surviving passengers: 28.55 years\n"
     ]
    }
   ],
   "source": [
    "avg_age_surviving_passengers = round(data[data['survived'] == 1]['age'].mean(),2)\n",
    "print \"Average age of surviving passengers: %s years\" % avg_age_surviving_passengers"
   ]
  },
  {
   "cell_type": "markdown",
   "metadata": {},
   "source": [
    "9) What is the average age of passengers who did not survive?"
   ]
  },
  {
   "cell_type": "code",
   "execution_count": 36,
   "metadata": {
    "collapsed": false
   },
   "outputs": [
    {
     "name": "stdout",
     "output_type": "stream",
     "text": [
      "Average age of passengers who did not survive: 30.42 years\n"
     ]
    }
   ],
   "source": [
    "avg_age_deceseased_passengers = round(data[data['survived'] == 0]['age'].mean(),2)\n",
    "print \"Average age of passengers who did not survive: %s years\" % avg_age_deceseased_passengers"
   ]
  },
  {
   "cell_type": "markdown",
   "metadata": {},
   "source": [
    "10) At this (early) point in our analysis, what might you infer about any patterns\n",
    "you are seeing?\n"
   ]
  },
  {
   "cell_type": "markdown",
   "metadata": {},
   "source": [
    "With a female survival rate of 26% vs a male survival rate of 12%.  More women survived.  The average age of all passengers is roughly 29.7 years old.  Whereas the average age of surviving passengers is 28.55 years.  It doesn't seem like a strong correlation that more younger people survived vs older people.\n",
    "\n",
    "More data collected below to see if additional inferences can be made."
   ]
  },
  {
   "cell_type": "code",
   "execution_count": 43,
   "metadata": {
    "collapsed": false
   },
   "outputs": [
    {
     "name": "stdout",
     "output_type": "stream",
     "text": [
      "Average age of surviving women: 29.0 years\n",
      "Youngest surviving female: 1.0 years\n",
      "Oldest surviving female: 63.0 years\n",
      "Oldest deceased female: 80.0 years\n",
      "Average age of surviving men: 28.0 years\n",
      "Youngest surviving male: 1.0 years\n",
      "Oldest surviving male: 80.0 years\n",
      "Oldest deceased male: 74.0 years\n"
     ]
    }
   ],
   "source": [
    "import math\n",
    "ages_surviving_females = data[female&survived]['age']\n",
    "ages_surviving_males = data[male&survived]['age']\n",
    "print \"Average age of surviving women: %s years\" % round(ages_surviving_females.mean())\n",
    "print \"Youngest surviving female: %s years\" % math.ceil(ages_surviving_females.min())\n",
    "print \"Oldest surviving female: %s years\" % round(ages_surviving_females.max()) \n",
    "print \"Oldest deceased female: %s years\" % round(data[female&data['survived'] == 0]['age'].max())\n",
    "print \"Average age of surviving men: %s years\" % round(ages_surviving_males.mean())\n",
    "print \"Youngest surviving male: %s years\" % math.ceil(ages_surviving_males.min())\n",
    "print \"Oldest surviving male: %s years\" % round(ages_surviving_males.max())\n",
    "print \"Oldest deceased male: %s years\" % round(data[male&data['survived'] == 0]['age'].max())"
   ]
  },
  {
   "cell_type": "markdown",
   "metadata": {},
   "source": [
    "11) How many passengers are in each of the three classes of service (e.g. First,\n",
    "Second, Third?)"
   ]
  },
  {
   "cell_type": "code",
   "execution_count": 58,
   "metadata": {
    "collapsed": false
   },
   "outputs": [
    {
     "name": "stdout",
     "output_type": "stream",
     "text": [
      "0\n",
      "First class total: 216\n",
      "Second class total: 184\n",
      "Third class total: 491\n"
     ]
    }
   ],
   "source": [
    "# Determine if any values in the pclass column are missing\n",
    "print len(data) - data['pclass'].count()\n",
    "\n",
    "first_class_total = len(data[data['pclass'] == 1])\n",
    "second_class_total = len(data[data['pclass'] == 2])\n",
    "third_class_total = len(data[data['pclass'] == 3])\n",
    "\n",
    "print \"First class total: %s\" % first_class_total\n",
    "print \"Second class total: %s\" % second_class_total\n",
    "print \"Third class total: %s\" % third_class_total"
   ]
  },
  {
   "cell_type": "markdown",
   "metadata": {},
   "source": [
    "12) What is the survival rate for passengers in each of the three classes of service?"
   ]
  },
  {
   "cell_type": "code",
   "execution_count": 104,
   "metadata": {
    "collapsed": false
   },
   "outputs": [
    {
     "name": "stdout",
     "output_type": "stream",
     "text": [
      "First class survival rate: 62.96%\n",
      "Second class survival rate: 47.28%\n",
      "Third class survival rate: 24.24%\n"
     ]
    }
   ],
   "source": [
    "class_dict = {1:[\"First\", first_class_total], 2: [\"Second\", second_class_total], 3: [\"Third\", third_class_total]}\n",
    "\n",
    "for i,j in class_dict.items():\n",
    "    survival_rate = round((len(data[((data['pclass'] == i) & survived)])/float(j[1]))*100,2)\n",
    "    print \"%s class survival rate: %s%%\" % (j[0],survival_rate)"
   ]
  },
  {
   "cell_type": "markdown",
   "metadata": {},
   "source": [
    "13) What else might you conclude?"
   ]
  },
  {
   "cell_type": "markdown",
   "metadata": {},
   "source": [
    "Although more third class passengers were on the titantic compared to first and second class passengers, less third class passengers survived."
   ]
  },
  {
   "cell_type": "markdown",
   "metadata": {},
   "source": [
    "14) Last, if we were to build a predictive model, which features in the data do you\n",
    "think we should include in the model and which can we leave out? Why?"
   ]
  },
  {
   "cell_type": "code",
   "execution_count": 62,
   "metadata": {
    "collapsed": false
   },
   "outputs": [
    {
     "name": "stdout",
     "output_type": "stream",
     "text": [
      "False\n",
      "True\n",
      "0\n",
      "0\n",
      "0\n"
     ]
    }
   ],
   "source": [
    "# Determine if ticket number is a unique identifier for each passenger\n",
    "def check_ticket_as_unique_id():\n",
    "    if len(data.set_index('ticket').index.get_duplicates()) > 0:\n",
    "        return False\n",
    "    return True\n",
    "print check_ticket_as_unique_id()\n",
    "\n",
    "# Determine if the name is a unique identifier\n",
    "def check_name_as_unique_id():\n",
    "    if len(data.set_index('name').index.get_duplicates()) > 0:\n",
    "        return False\n",
    "    return True\n",
    "print check_name_as_unique_id()\n",
    "\n",
    "# Determine if null values in sibsp\n",
    "print data.isnull()['sibsp'].sum()\n",
    "\n",
    "# Determine if null values in parch\n",
    "print data.isnull()['parch'].sum()\n",
    "\n",
    "# Determine if null values in parch\n",
    "print data.isnull()['ticket'].sum()\n"
   ]
  },
  {
   "cell_type": "markdown",
   "metadata": {
    "collapsed": true
   },
   "source": [
    "## Buiding a predictive model\n",
    "When we build our predictive model, my first asumption is that we have an end goal in mind.  What do we want to learn from the data we have? Since I don't know what outcome we want to predict I will naively answer this question. \n",
    "\n",
    "### Features to throw out:\n",
    "\n",
    "We can throw out the cabin number, fare, and port of embarkation since none of these features provide any discerning value when analyzing the data.  The only value I can see for the port of embarkation is to determine where most of the passengers boarded which could give an indication which port is larger and possibly give an idea where each passenger lived.\n",
    "\n",
    "### Features to keep:\n",
    "* Ticket: Used to link passengers\n",
    "* Survived: Used to predict survival rate amoung different groups of passengers\n",
    "* Sex: Used to determine survival rate and ratio of the sexes across the passengers\n",
    "* Name: Unique identifier\n",
    "* Age: Used to determine average age of passengers and the age rangers for deceased and surviving passengers\n",
    "* Passenger Class: Used to determine the number of deceased and surviving passengers from each socio econonmic status\n",
    "* sibsp & parch: I can imagine many ways this data could be analyzed which is not limited to the following: what ratio of families potentially lost a family member(s), how many children were orphaned, how many parents lost their child.\n",
    "\n",
    "### Features to clean:\n",
    "The following features that we would keep contain null values: Age\n",
    "\n",
    "The technique of dealing with missing data is dependent on the cost of patching the data vs. throwing the data out.\n",
    "We would need to determine the best way to clean the age data.\n",
    "\n",
    "### Other Considerations:\n",
    "One thing the data does not provide that I would be interested in researching is whether the passenger was part of the crew or a passenger.  We could use this determine the age old idiom of the capatain or crew going down with the ship and if this held true with the Titanic.\n"
   ]
  },
  {
   "cell_type": "code",
   "execution_count": null,
   "metadata": {
    "collapsed": true
   },
   "outputs": [],
   "source": []
  }
 ],
 "metadata": {
  "kernelspec": {
   "display_name": "Python 2",
   "language": "python",
   "name": "python2"
  },
  "language_info": {
   "codemirror_mode": {
    "name": "ipython",
    "version": 2
   },
   "file_extension": ".py",
   "mimetype": "text/x-python",
   "name": "python",
   "nbconvert_exporter": "python",
   "pygments_lexer": "ipython2",
   "version": "2.7.11"
  }
 },
 "nbformat": 4,
 "nbformat_minor": 0
}
