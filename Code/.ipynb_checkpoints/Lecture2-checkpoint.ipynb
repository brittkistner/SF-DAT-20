{
 "cells": [
  {
   "cell_type": "markdown",
   "metadata": {},
   "source": [
    "# Introduction to Numpy\n",
    "\n",
    "* Overview\n",
    "* ndarray\n",
    "* Indexing and Slicing\n",
    "\n",
    "More info: [http://wiki.scipy.org/Tentative_NumPy_Tutorial](http://wiki.scipy.org/Tentative_NumPy_Tutorial)"
   ]
  },
  {
   "cell_type": "markdown",
   "metadata": {},
   "source": [
    "## Numpy Overview\n",
    "\n",
    "* Why Python for Data? Numpy brings decades of C math into Python!\n",
    "   * Numpy provides wrapper for extensive C/C++/Fortran codebases for data analysis and analytical functionality\n",
    "* NDAarray allows easy vectorized math and broadcasting (i.e. functions on vector elements of different shapes)"
   ]
  },
  {
   "cell_type": "code",
   "execution_count": 23,
   "metadata": {
    "collapsed": false
   },
   "outputs": [],
   "source": [
    "import pandas as pd\n",
    "import datetime\n",
    "import pandas.io.data as web\n",
    "import matplotlib.pyplot as plt\n",
    "from matplotlib import style\n",
    "style.use('ggplot')\n",
    "import numpy as np\n",
    "%matplotlib inline"
   ]
  },
  {
   "cell_type": "markdown",
   "metadata": {},
   "source": [
    "## Convert Dictionaries to DataFrame"
   ]
  },
  {
   "cell_type": "code",
   "execution_count": 3,
   "metadata": {
    "collapsed": false
   },
   "outputs": [
    {
     "name": "stdout",
     "output_type": "stream",
     "text": [
      "   Class  Graduated  Registered\n",
      "0      1         19          20\n",
      "1      2         28          30\n",
      "2      3         35          40\n",
      "3      4         20          35\n",
      "4      5         10          10\n"
     ]
    }
   ],
   "source": [
    "GA_DAT = {'Class':[1,2,3,4,5],\n",
    "             'Registered':[20,30,40,35,10],\n",
    "             'Graduated':[19,28,35,20,10]}\n",
    "df = pd.DataFrame(GA_DAT)   #Convert a dictionary to a dataframe\n",
    "print(df)  # look up index do you like it? (I don't!)"
   ]
  },
  {
   "cell_type": "markdown",
   "metadata": {},
   "source": [
    "## Let's change index to Class #"
   ]
  },
  {
   "cell_type": "code",
   "execution_count": 4,
   "metadata": {
    "collapsed": false
   },
   "outputs": [
    {
     "name": "stdout",
     "output_type": "stream",
     "text": [
      "       Graduated  Registered\n",
      "Class                       \n",
      "1             19          20\n",
      "2             28          30\n",
      "3             35          40\n",
      "4             20          35\n",
      "5             10          10\n"
     ]
    }
   ],
   "source": [
    "df = df.set_index('Class')\n",
    "# Set the class variable as the index\n",
    "# To make this an index, must be unique? Can be text.\n",
    "print(df)"
   ]
  },
  {
   "cell_type": "code",
   "execution_count": 8,
   "metadata": {
    "collapsed": false
   },
   "outputs": [
    {
     "data": {
      "text/html": [
       "<div>\n",
       "<table border=\"1\" class=\"dataframe\">\n",
       "  <thead>\n",
       "    <tr style=\"text-align: right;\">\n",
       "      <th></th>\n",
       "      <th>Graduated</th>\n",
       "      <th>Registered</th>\n",
       "    </tr>\n",
       "    <tr>\n",
       "      <th>Class</th>\n",
       "      <th></th>\n",
       "      <th></th>\n",
       "    </tr>\n",
       "  </thead>\n",
       "  <tbody>\n",
       "    <tr>\n",
       "      <th>1</th>\n",
       "      <td>19</td>\n",
       "      <td>20</td>\n",
       "    </tr>\n",
       "    <tr>\n",
       "      <th>2</th>\n",
       "      <td>28</td>\n",
       "      <td>30</td>\n",
       "    </tr>\n",
       "  </tbody>\n",
       "</table>\n",
       "</div>"
      ],
      "text/plain": [
       "       Graduated  Registered\n",
       "Class                       \n",
       "1             19          20\n",
       "2             28          30"
      ]
     },
     "execution_count": 8,
     "metadata": {},
     "output_type": "execute_result"
    }
   ],
   "source": [
    "df.head()\n",
    "# ?df.head() # Returns the first 5 rows by default. Ex: df.head(n=5)\n",
    "# to see the last 5 observations use tail => df.tail()\n",
    "df.head(2)"
   ]
  },
  {
   "cell_type": "code",
   "execution_count": 5,
   "metadata": {
    "collapsed": false
   },
   "outputs": [
    {
     "name": "stdout",
     "output_type": "stream",
     "text": [
      "Class\n",
      "1    19\n",
      "2    28\n",
      "3    35\n",
      "4    20\n",
      "5    10\n",
      "Name: Graduated, dtype: int64\n",
      "Class\n",
      "1    19\n",
      "2    28\n",
      "3    35\n",
      "4    20\n",
      "5    10\n",
      "Name: Graduated, dtype: int64\n"
     ]
    }
   ],
   "source": [
    "print(df.Graduated)\n",
    "print(df['Graduated'])"
   ]
  },
  {
   "cell_type": "code",
   "execution_count": 10,
   "metadata": {
    "collapsed": false
   },
   "outputs": [
    {
     "name": "stdout",
     "output_type": "stream",
     "text": [
      "       Graduated  Registered\n",
      "Class                       \n",
      "1             19          20\n",
      "2             28          30\n",
      "3             35          40\n",
      "4             20          35\n",
      "5             10          10\n"
     ]
    }
   ],
   "source": [
    "print(df[['Graduated','Registered']])\n",
    "# Make this a list that is why 2 brackets are used\n",
    "# print df['Graduated', 'Registered'] # Will get an error"
   ]
  },
  {
   "cell_type": "code",
   "execution_count": 18,
   "metadata": {
    "collapsed": false
   },
   "outputs": [],
   "source": [
    "df.describe()  #Summary of your data frame\n",
    "# 50% = median or second quartile\n",
    "# 25% = first quartile\n",
    "# 75% = third quartile\n",
    "# REVIEW\n",
    "# ?df.describe() What is the dtype??"
   ]
  },
  {
   "cell_type": "code",
   "execution_count": 15,
   "metadata": {
    "collapsed": false
   },
   "outputs": [
    {
     "data": {
      "text/plain": [
       "19.0"
      ]
     },
     "execution_count": 15,
     "metadata": {},
     "output_type": "execute_result"
    }
   ],
   "source": [
    "df.describe()['Graduated']['25%']\n",
    "df['Graduated'].describe()['25%']"
   ]
  },
  {
   "cell_type": "markdown",
   "metadata": {},
   "source": [
    "# Now let's change DataFrames to Arrays"
   ]
  },
  {
   "cell_type": "code",
   "execution_count": 9,
   "metadata": {
    "collapsed": false
   },
   "outputs": [
    {
     "name": "stdout",
     "output_type": "stream",
     "text": [
      "[[19 20]\n",
      " [28 30]\n",
      " [35 40]\n",
      " [20 35]\n",
      " [10 10]]\n"
     ]
    }
   ],
   "source": [
    "MyArray = np.array(df[['Graduated','Registered']])\n",
    "print(MyArray)"
   ]
  },
  {
   "cell_type": "markdown",
   "metadata": {},
   "source": [
    "## Grouping"
   ]
  },
  {
   "cell_type": "code",
   "execution_count": 19,
   "metadata": {
    "collapsed": false
   },
   "outputs": [
    {
     "data": {
      "text/html": [
       "<div>\n",
       "<table border=\"1\" class=\"dataframe\">\n",
       "  <thead>\n",
       "    <tr style=\"text-align: right;\">\n",
       "      <th></th>\n",
       "      <th>A</th>\n",
       "      <th>B</th>\n",
       "      <th>C</th>\n",
       "      <th>D</th>\n",
       "    </tr>\n",
       "  </thead>\n",
       "  <tbody>\n",
       "    <tr>\n",
       "      <th>0</th>\n",
       "      <td>foo</td>\n",
       "      <td>one</td>\n",
       "      <td>-1.312793</td>\n",
       "      <td>0.172248</td>\n",
       "    </tr>\n",
       "    <tr>\n",
       "      <th>1</th>\n",
       "      <td>bar</td>\n",
       "      <td>one</td>\n",
       "      <td>-0.492544</td>\n",
       "      <td>2.062603</td>\n",
       "    </tr>\n",
       "    <tr>\n",
       "      <th>2</th>\n",
       "      <td>foo</td>\n",
       "      <td>two</td>\n",
       "      <td>0.044906</td>\n",
       "      <td>2.258396</td>\n",
       "    </tr>\n",
       "    <tr>\n",
       "      <th>3</th>\n",
       "      <td>bar</td>\n",
       "      <td>three</td>\n",
       "      <td>-1.422961</td>\n",
       "      <td>-0.424147</td>\n",
       "    </tr>\n",
       "    <tr>\n",
       "      <th>4</th>\n",
       "      <td>foo</td>\n",
       "      <td>two</td>\n",
       "      <td>1.002984</td>\n",
       "      <td>0.693366</td>\n",
       "    </tr>\n",
       "    <tr>\n",
       "      <th>5</th>\n",
       "      <td>bar</td>\n",
       "      <td>two</td>\n",
       "      <td>0.293058</td>\n",
       "      <td>0.692148</td>\n",
       "    </tr>\n",
       "    <tr>\n",
       "      <th>6</th>\n",
       "      <td>foo</td>\n",
       "      <td>one</td>\n",
       "      <td>-0.828012</td>\n",
       "      <td>0.003721</td>\n",
       "    </tr>\n",
       "    <tr>\n",
       "      <th>7</th>\n",
       "      <td>foo</td>\n",
       "      <td>three</td>\n",
       "      <td>0.878794</td>\n",
       "      <td>-1.197810</td>\n",
       "    </tr>\n",
       "  </tbody>\n",
       "</table>\n",
       "</div>"
      ],
      "text/plain": [
       "     A      B         C         D\n",
       "0  foo    one -1.312793  0.172248\n",
       "1  bar    one -0.492544  2.062603\n",
       "2  foo    two  0.044906  2.258396\n",
       "3  bar  three -1.422961 -0.424147\n",
       "4  foo    two  1.002984  0.693366\n",
       "5  bar    two  0.293058  0.692148\n",
       "6  foo    one -0.828012  0.003721\n",
       "7  foo  three  0.878794 -1.197810"
      ]
     },
     "execution_count": 19,
     "metadata": {},
     "output_type": "execute_result"
    }
   ],
   "source": [
    "df = pd.DataFrame({'A' : ['foo', 'bar', 'foo', 'bar',\n",
    "                       'foo', 'bar', 'foo', 'foo'],\n",
    "                       'B' : ['one', 'one', 'two', 'three',\n",
    "                             'two', 'two', 'one', 'three'],\n",
    "                       'C' : np.random.randn(8),\n",
    "                       'D' : np.random.randn(8)})\n",
    "\n",
    "df"
   ]
  },
  {
   "cell_type": "code",
   "execution_count": 11,
   "metadata": {
    "collapsed": false
   },
   "outputs": [
    {
     "data": {
      "text/html": [
       "<div>\n",
       "<table border=\"1\" class=\"dataframe\">\n",
       "  <thead>\n",
       "    <tr style=\"text-align: right;\">\n",
       "      <th></th>\n",
       "      <th></th>\n",
       "      <th>C</th>\n",
       "      <th>D</th>\n",
       "    </tr>\n",
       "    <tr>\n",
       "      <th>A</th>\n",
       "      <th>B</th>\n",
       "      <th></th>\n",
       "      <th></th>\n",
       "    </tr>\n",
       "  </thead>\n",
       "  <tbody>\n",
       "    <tr>\n",
       "      <th rowspan=\"3\" valign=\"top\">bar</th>\n",
       "      <th>one</th>\n",
       "      <td>-0.495233</td>\n",
       "      <td>0.054125</td>\n",
       "    </tr>\n",
       "    <tr>\n",
       "      <th>three</th>\n",
       "      <td>-0.860828</td>\n",
       "      <td>1.683989</td>\n",
       "    </tr>\n",
       "    <tr>\n",
       "      <th>two</th>\n",
       "      <td>-0.423576</td>\n",
       "      <td>-1.699064</td>\n",
       "    </tr>\n",
       "    <tr>\n",
       "      <th rowspan=\"3\" valign=\"top\">foo</th>\n",
       "      <th>one</th>\n",
       "      <td>-0.727376</td>\n",
       "      <td>-1.256263</td>\n",
       "    </tr>\n",
       "    <tr>\n",
       "      <th>three</th>\n",
       "      <td>-0.964912</td>\n",
       "      <td>-0.892416</td>\n",
       "    </tr>\n",
       "    <tr>\n",
       "      <th>two</th>\n",
       "      <td>0.979242</td>\n",
       "      <td>-1.258687</td>\n",
       "    </tr>\n",
       "  </tbody>\n",
       "</table>\n",
       "</div>"
      ],
      "text/plain": [
       "                  C         D\n",
       "A   B                        \n",
       "bar one   -0.495233  0.054125\n",
       "    three -0.860828  1.683989\n",
       "    two   -0.423576 -1.699064\n",
       "foo one   -0.727376 -1.256263\n",
       "    three -0.964912 -0.892416\n",
       "    two    0.979242 -1.258687"
      ]
     },
     "execution_count": 11,
     "metadata": {},
     "output_type": "execute_result"
    }
   ],
   "source": [
    "df.groupby(['A','B']).mean()\n",
    "# REVIEW"
   ]
  },
  {
   "cell_type": "markdown",
   "metadata": {},
   "source": [
    "# Now Let's Play with Web Data"
   ]
  },
  {
   "cell_type": "code",
   "execution_count": 20,
   "metadata": {
    "collapsed": false
   },
   "outputs": [
    {
     "name": "stdout",
     "output_type": "stream",
     "text": [
      "                 Open   High        Low      Close    Volume  Adj Close\n",
      "Date                                                                   \n",
      "2010-06-29  19.000000  25.00  17.540001  23.889999  18766300  23.889999\n",
      "2010-06-30  25.790001  30.42  23.299999  23.830000  17187100  23.830000\n",
      "2010-07-01  25.000000  25.92  20.270000  21.959999   8218800  21.959999\n",
      "2010-07-02  23.000000  23.10  18.709999  19.200001   5139800  19.200001\n",
      "2010-07-06  20.000000  20.00  15.830000  16.110001   6866900  16.110001\n",
      "                  Open        High         Low       Close   Volume  \\\n",
      "Date                                                                  \n",
      "2016-01-25  200.059998  203.570007  195.880005  196.380005  2698700   \n",
      "2016-01-26  196.699997  197.820007  188.880005  193.559998  4946800   \n",
      "2016-01-27  192.380005  193.259995  185.770004  188.070007  3565400   \n",
      "2016-01-28  190.789993  191.279999  182.410004  189.699997  4581700   \n",
      "2016-01-29  189.949997  193.740005  188.080002  191.199997  2841000   \n",
      "\n",
      "             Adj Close  \n",
      "Date                    \n",
      "2016-01-25  196.380005  \n",
      "2016-01-26  193.559998  \n",
      "2016-01-27  188.070007  \n",
      "2016-01-28  189.699997  \n",
      "2016-01-29  191.199997  \n"
     ]
    },
    {
     "data": {
      "text/plain": [
       "286.040009"
      ]
     },
     "execution_count": 20,
     "metadata": {},
     "output_type": "execute_result"
    }
   ],
   "source": [
    "start = datetime.datetime(2010,1,1)\n",
    "end = datetime.datetime(2016,1,29)\n",
    "\n",
    "df = web.DataReader(\"TSLA\",\"yahoo\",start,end)\n",
    "print(df.head())\n",
    "print(df.tail())\n",
    "\n",
    "\n",
    "df[\"Adj Close\"].max()\n",
    "\n"
   ]
  },
  {
   "cell_type": "code",
   "execution_count": 24,
   "metadata": {
    "collapsed": false
   },
   "outputs": [
    {
     "data": {
      "image/png": "[encoded data removed]",
      "text/plain": [
       "<matplotlib.figure.Figure at 0x109c9b550>"
      ]
     },
     "metadata": {},
     "output_type": "display_data"
    }
   ],
   "source": [
    "df['Close'].plot()\n",
    "plt.show()"
   ]
  },
  {
   "cell_type": "markdown",
   "metadata": {
    "collapsed": true
   },
   "source": [
    "# Input/output almost any type of Data using Pandas\n",
    "Using pandas I/O API you can read from, convert to, or write in almost any type of dataset. Please refer to <http://pandas.pydata.org/pandas-docs/stable/io.html> for more info.\n",
    "\n",
    "## Let's read csv"
   ]
  },
  {
   "cell_type": "markdown",
   "metadata": {
    "collapsed": true
   },
   "source": [
    "You can read any file from your local computer by refering to the complete address of your data."
   ]
  },
  {
   "cell_type": "code",
   "execution_count": 29,
   "metadata": {
    "collapsed": false
   },
   "outputs": [
    {
     "data": {
      "text/html": [
       "<div>\n",
       "<table border=\"1\" class=\"dataframe\">\n",
       "  <thead>\n",
       "    <tr style=\"text-align: right;\">\n",
       "      <th></th>\n",
       "      <th>Date</th>\n",
       "      <th>Value</th>\n",
       "    </tr>\n",
       "  </thead>\n",
       "  <tbody>\n",
       "    <tr>\n",
       "      <th>0</th>\n",
       "      <td>12/31/15</td>\n",
       "      <td>1138500</td>\n",
       "    </tr>\n",
       "    <tr>\n",
       "      <th>1</th>\n",
       "      <td>11/30/15</td>\n",
       "      <td>1126750</td>\n",
       "    </tr>\n",
       "    <tr>\n",
       "      <th>2</th>\n",
       "      <td>10/31/15</td>\n",
       "      <td>1093250</td>\n",
       "    </tr>\n",
       "    <tr>\n",
       "      <th>3</th>\n",
       "      <td>9/30/15</td>\n",
       "      <td>1080750</td>\n",
       "    </tr>\n",
       "    <tr>\n",
       "      <th>4</th>\n",
       "      <td>8/31/15</td>\n",
       "      <td>1138750</td>\n",
       "    </tr>\n",
       "  </tbody>\n",
       "</table>\n",
       "</div>"
      ],
      "text/plain": [
       "       Date    Value\n",
       "0  12/31/15  1138500\n",
       "1  11/30/15  1126750\n",
       "2  10/31/15  1093250\n",
       "3   9/30/15  1080750\n",
       "4   8/31/15  1138750"
      ]
     },
     "execution_count": 29,
     "metadata": {},
     "output_type": "execute_result"
    }
   ],
   "source": [
    "df1 = pd.read_csv('/Users/bkistner/Desktop/ga_data_science/projects/SF-DAT-20/Data/SF-Median-Prices.csv') \n",
    "# print(df1.head())\n",
    "df1.head()"
   ]
  },
  {
   "cell_type": "code",
   "execution_count": 30,
   "metadata": {
    "collapsed": false
   },
   "outputs": [
    {
     "data": {
      "text/plain": [
       "'/Users/bkistner/Desktop/ga_data_science/projects/SF-DAT-20/Code'"
      ]
     },
     "execution_count": 30,
     "metadata": {},
     "output_type": "execute_result"
    }
   ],
   "source": [
    "# Here's a cleaner way to do the above example\n",
    "\n",
    "import os\n",
    "from os import getcwd\n",
    "# get current working directory <= This refers to your ipython notebook\n",
    "?getcwd\n",
    "getcwd()"
   ]
  },
  {
   "cell_type": "code",
   "execution_count": 31,
   "metadata": {
    "collapsed": true
   },
   "outputs": [],
   "source": [
    "os.chdir('//Users/bkistner/Desktop/ga_data_science/projects/SF-DAT-20/Data/') #PLEASE SET THIS WORKING DIRECTORY TO YOURS\n"
   ]
  },
  {
   "cell_type": "code",
   "execution_count": 32,
   "metadata": {
    "collapsed": false
   },
   "outputs": [
    {
     "data": {
      "text/html": [
       "<div>\n",
       "<table border=\"1\" class=\"dataframe\">\n",
       "  <thead>\n",
       "    <tr style=\"text-align: right;\">\n",
       "      <th></th>\n",
       "      <th>Date</th>\n",
       "      <th>Value</th>\n",
       "    </tr>\n",
       "  </thead>\n",
       "  <tbody>\n",
       "    <tr>\n",
       "      <th>0</th>\n",
       "      <td>12/31/15</td>\n",
       "      <td>1138500</td>\n",
       "    </tr>\n",
       "    <tr>\n",
       "      <th>1</th>\n",
       "      <td>11/30/15</td>\n",
       "      <td>1126750</td>\n",
       "    </tr>\n",
       "    <tr>\n",
       "      <th>2</th>\n",
       "      <td>10/31/15</td>\n",
       "      <td>1093250</td>\n",
       "    </tr>\n",
       "    <tr>\n",
       "      <th>3</th>\n",
       "      <td>9/30/15</td>\n",
       "      <td>1080750</td>\n",
       "    </tr>\n",
       "    <tr>\n",
       "      <th>4</th>\n",
       "      <td>8/31/15</td>\n",
       "      <td>1138750</td>\n",
       "    </tr>\n",
       "  </tbody>\n",
       "</table>\n",
       "</div>"
      ],
      "text/plain": [
       "       Date    Value\n",
       "0  12/31/15  1138500\n",
       "1  11/30/15  1126750\n",
       "2  10/31/15  1093250\n",
       "3   9/30/15  1080750\n",
       "4   8/31/15  1138750"
      ]
     },
     "execution_count": 32,
     "metadata": {},
     "output_type": "execute_result"
    }
   ],
   "source": [
    "df2 = pd.read_csv('SF-Median-Prices.csv')\n",
    "df2.head()"
   ]
  },
  {
   "cell_type": "code",
   "execution_count": 18,
   "metadata": {
    "collapsed": false
   },
   "outputs": [],
   "source": [
    "df2['Value'].plot()\n",
    "plt.show()\n",
    "#How do you like this graph? What is going wrong? "
   ]
  },
  {
   "cell_type": "code",
   "execution_count": 19,
   "metadata": {
    "collapsed": false
   },
   "outputs": [],
   "source": [
    "df2 = df2.set_index('Date')\n"
   ]
  },
  {
   "cell_type": "code",
   "execution_count": 20,
   "metadata": {
    "collapsed": false
   },
   "outputs": [
    {
     "data": {
      "text/html": [
       "<div>\n",
       "<table border=\"1\" class=\"dataframe\">\n",
       "  <thead>\n",
       "    <tr style=\"text-align: right;\">\n",
       "      <th></th>\n",
       "      <th>Value</th>\n",
       "    </tr>\n",
       "    <tr>\n",
       "      <th>Date</th>\n",
       "      <th></th>\n",
       "    </tr>\n",
       "  </thead>\n",
       "  <tbody>\n",
       "    <tr>\n",
       "      <th>12/31/15</th>\n",
       "      <td>1138500</td>\n",
       "    </tr>\n",
       "    <tr>\n",
       "      <th>11/30/15</th>\n",
       "      <td>1126750</td>\n",
       "    </tr>\n",
       "    <tr>\n",
       "      <th>10/31/15</th>\n",
       "      <td>1093250</td>\n",
       "    </tr>\n",
       "    <tr>\n",
       "      <th>9/30/15</th>\n",
       "      <td>1080750</td>\n",
       "    </tr>\n",
       "    <tr>\n",
       "      <th>8/31/15</th>\n",
       "      <td>1138750</td>\n",
       "    </tr>\n",
       "  </tbody>\n",
       "</table>\n",
       "</div>"
      ],
      "text/plain": [
       "            Value\n",
       "Date             \n",
       "12/31/15  1138500\n",
       "11/30/15  1126750\n",
       "10/31/15  1093250\n",
       "9/30/15   1080750\n",
       "8/31/15   1138750"
      ]
     },
     "execution_count": 20,
     "metadata": {},
     "output_type": "execute_result"
    }
   ],
   "source": [
    "df2.head()"
   ]
  },
  {
   "cell_type": "code",
   "execution_count": 21,
   "metadata": {
    "collapsed": true
   },
   "outputs": [],
   "source": [
    "df2['Value'].plot()\n",
    "plt.show() #the graph looks better - at least has correct labels"
   ]
  },
  {
   "cell_type": "markdown",
   "metadata": {},
   "source": [
    "## Bonus Question: Can you fix the plot such that it shows ealier dates before later dates?"
   ]
  },
  {
   "cell_type": "code",
   "execution_count": null,
   "metadata": {
    "collapsed": true
   },
   "outputs": [],
   "source": []
  },
  {
   "cell_type": "markdown",
   "metadata": {},
   "source": [
    "Now let's save our dataframe into \"html\" format"
   ]
  },
  {
   "cell_type": "code",
   "execution_count": 22,
   "metadata": {
    "collapsed": true
   },
   "outputs": [],
   "source": [
    "df2.to_html('SFData.html') #check your working directory"
   ]
  },
  {
   "cell_type": "markdown",
   "metadata": {},
   "source": [
    "## Now let's rename columns in our DataFrame"
   ]
  },
  {
   "cell_type": "code",
   "execution_count": 23,
   "metadata": {
    "collapsed": false
   },
   "outputs": [],
   "source": [
    "df2 = df2.rename(columns = {'Value':'SFHomeValue'},)"
   ]
  },
  {
   "cell_type": "code",
   "execution_count": 24,
   "metadata": {
    "collapsed": false
   },
   "outputs": [
    {
     "data": {
      "text/html": [
       "<div>\n",
       "<table border=\"1\" class=\"dataframe\">\n",
       "  <thead>\n",
       "    <tr style=\"text-align: right;\">\n",
       "      <th></th>\n",
       "      <th>SFHomeValue</th>\n",
       "    </tr>\n",
       "    <tr>\n",
       "      <th>Date</th>\n",
       "      <th></th>\n",
       "    </tr>\n",
       "  </thead>\n",
       "  <tbody>\n",
       "    <tr>\n",
       "      <th>12/31/15</th>\n",
       "      <td>1138500</td>\n",
       "    </tr>\n",
       "    <tr>\n",
       "      <th>11/30/15</th>\n",
       "      <td>1126750</td>\n",
       "    </tr>\n",
       "    <tr>\n",
       "      <th>10/31/15</th>\n",
       "      <td>1093250</td>\n",
       "    </tr>\n",
       "    <tr>\n",
       "      <th>9/30/15</th>\n",
       "      <td>1080750</td>\n",
       "    </tr>\n",
       "    <tr>\n",
       "      <th>8/31/15</th>\n",
       "      <td>1138750</td>\n",
       "    </tr>\n",
       "  </tbody>\n",
       "</table>\n",
       "</div>"
      ],
      "text/plain": [
       "          SFHomeValue\n",
       "Date                 \n",
       "12/31/15      1138500\n",
       "11/30/15      1126750\n",
       "10/31/15      1093250\n",
       "9/30/15       1080750\n",
       "8/31/15       1138750"
      ]
     },
     "execution_count": 24,
     "metadata": {},
     "output_type": "execute_result"
    }
   ],
   "source": [
    "df2.head()"
   ]
  },
  {
   "cell_type": "code",
   "execution_count": 25,
   "metadata": {
    "collapsed": false
   },
   "outputs": [
    {
     "data": {
      "text/html": [
       "<div>\n",
       "<table border=\"1\" class=\"dataframe\">\n",
       "  <thead>\n",
       "    <tr style=\"text-align: right;\">\n",
       "      <th></th>\n",
       "      <th>SFHomeValue</th>\n",
       "    </tr>\n",
       "    <tr>\n",
       "      <th>Date</th>\n",
       "      <th></th>\n",
       "    </tr>\n",
       "  </thead>\n",
       "  <tbody>\n",
       "    <tr>\n",
       "      <th>12/31/15</th>\n",
       "      <td>1138500</td>\n",
       "    </tr>\n",
       "    <tr>\n",
       "      <th>11/30/15</th>\n",
       "      <td>1126750</td>\n",
       "    </tr>\n",
       "    <tr>\n",
       "      <th>10/31/15</th>\n",
       "      <td>1093250</td>\n",
       "    </tr>\n",
       "  </tbody>\n",
       "</table>\n",
       "</div>"
      ],
      "text/plain": [
       "          SFHomeValue\n",
       "Date                 \n",
       "12/31/15      1138500\n",
       "11/30/15      1126750\n",
       "10/31/15      1093250"
      ]
     },
     "execution_count": 25,
     "metadata": {},
     "output_type": "execute_result"
    }
   ],
   "source": [
    "df2.loc['12/31/15':'10/31/15',['SFHomeValue']]  #Access to a portion of DataFrame using index"
   ]
  },
  {
   "cell_type": "code",
   "execution_count": 26,
   "metadata": {
    "collapsed": false
   },
   "outputs": [
    {
     "data": {
      "text/plain": [
       "SFHomeValue    237\n",
       "dtype: int64"
      ]
     },
     "execution_count": 26,
     "metadata": {},
     "output_type": "execute_result"
    }
   ],
   "source": [
    "df2.count()"
   ]
  },
  {
   "cell_type": "code",
   "execution_count": 27,
   "metadata": {
    "collapsed": false
   },
   "outputs": [
    {
     "data": {
      "text/html": [
       "<div>\n",
       "<table border=\"1\" class=\"dataframe\">\n",
       "  <thead>\n",
       "    <tr style=\"text-align: right;\">\n",
       "      <th></th>\n",
       "      <th>SFHomeValue</th>\n",
       "    </tr>\n",
       "  </thead>\n",
       "  <tbody>\n",
       "    <tr>\n",
       "      <th>count</th>\n",
       "      <td>237.000000</td>\n",
       "    </tr>\n",
       "    <tr>\n",
       "      <th>mean</th>\n",
       "      <td>642629.746835</td>\n",
       "    </tr>\n",
       "    <tr>\n",
       "      <th>std</th>\n",
       "      <td>214891.555539</td>\n",
       "    </tr>\n",
       "    <tr>\n",
       "      <th>min</th>\n",
       "      <td>250400.000000</td>\n",
       "    </tr>\n",
       "    <tr>\n",
       "      <th>25%</th>\n",
       "      <td>504000.000000</td>\n",
       "    </tr>\n",
       "    <tr>\n",
       "      <th>50%</th>\n",
       "      <td>683750.000000</td>\n",
       "    </tr>\n",
       "    <tr>\n",
       "      <th>75%</th>\n",
       "      <td>767500.000000</td>\n",
       "    </tr>\n",
       "    <tr>\n",
       "      <th>max</th>\n",
       "      <td>1185250.000000</td>\n",
       "    </tr>\n",
       "  </tbody>\n",
       "</table>\n",
       "</div>"
      ],
      "text/plain": [
       "          SFHomeValue\n",
       "count      237.000000\n",
       "mean    642629.746835\n",
       "std     214891.555539\n",
       "min     250400.000000\n",
       "25%     504000.000000\n",
       "50%     683750.000000\n",
       "75%     767500.000000\n",
       "max    1185250.000000"
      ]
     },
     "execution_count": 27,
     "metadata": {},
     "output_type": "execute_result"
    }
   ],
   "source": [
    "df2.describe()"
   ]
  },
  {
   "cell_type": "code",
   "execution_count": 28,
   "metadata": {
    "collapsed": false
   },
   "outputs": [
    {
     "name": "stderr",
     "output_type": "stream",
     "text": [
      "/anaconda/lib/python2.7/site-packages/ipykernel/__main__.py:1: FutureWarning: sort(columns=....) is deprecated, use sort_values(by=.....)\n",
      "  if __name__ == '__main__':\n"
     ]
    },
    {
     "data": {
      "text/html": [
       "<div>\n",
       "<table border=\"1\" class=\"dataframe\">\n",
       "  <thead>\n",
       "    <tr style=\"text-align: right;\">\n",
       "      <th></th>\n",
       "      <th>SFHomeValue</th>\n",
       "    </tr>\n",
       "    <tr>\n",
       "      <th>Date</th>\n",
       "      <th></th>\n",
       "    </tr>\n",
       "  </thead>\n",
       "  <tbody>\n",
       "    <tr>\n",
       "      <th>10/31/96</th>\n",
       "      <td>250400</td>\n",
       "    </tr>\n",
       "    <tr>\n",
       "      <th>11/30/96</th>\n",
       "      <td>255350</td>\n",
       "    </tr>\n",
       "    <tr>\n",
       "      <th>4/30/96</th>\n",
       "      <td>259300</td>\n",
       "    </tr>\n",
       "    <tr>\n",
       "      <th>9/30/96</th>\n",
       "      <td>262600</td>\n",
       "    </tr>\n",
       "    <tr>\n",
       "      <th>12/31/96</th>\n",
       "      <td>263750</td>\n",
       "    </tr>\n",
       "    <tr>\n",
       "      <th>5/31/96</th>\n",
       "      <td>265700</td>\n",
       "    </tr>\n",
       "    <tr>\n",
       "      <th>1/31/97</th>\n",
       "      <td>268250</td>\n",
       "    </tr>\n",
       "    <tr>\n",
       "      <th>8/31/96</th>\n",
       "      <td>268650</td>\n",
       "    </tr>\n",
       "    <tr>\n",
       "      <th>2/28/97</th>\n",
       "      <td>268800</td>\n",
       "    </tr>\n",
       "    <tr>\n",
       "      <th>3/31/97</th>\n",
       "      <td>271850</td>\n",
       "    </tr>\n",
       "    <tr>\n",
       "      <th>7/31/96</th>\n",
       "      <td>273000</td>\n",
       "    </tr>\n",
       "    <tr>\n",
       "      <th>6/30/96</th>\n",
       "      <td>274250</td>\n",
       "    </tr>\n",
       "    <tr>\n",
       "      <th>4/30/97</th>\n",
       "      <td>280350</td>\n",
       "    </tr>\n",
       "    <tr>\n",
       "      <th>5/31/97</th>\n",
       "      <td>281875</td>\n",
       "    </tr>\n",
       "    <tr>\n",
       "      <th>7/31/97</th>\n",
       "      <td>283250</td>\n",
       "    </tr>\n",
       "    <tr>\n",
       "      <th>6/30/97</th>\n",
       "      <td>283625</td>\n",
       "    </tr>\n",
       "    <tr>\n",
       "      <th>8/31/97</th>\n",
       "      <td>289300</td>\n",
       "    </tr>\n",
       "    <tr>\n",
       "      <th>9/30/97</th>\n",
       "      <td>295700</td>\n",
       "    </tr>\n",
       "    <tr>\n",
       "      <th>10/31/97</th>\n",
       "      <td>298750</td>\n",
       "    </tr>\n",
       "    <tr>\n",
       "      <th>2/28/98</th>\n",
       "      <td>299700</td>\n",
       "    </tr>\n",
       "    <tr>\n",
       "      <th>3/31/98</th>\n",
       "      <td>301000</td>\n",
       "    </tr>\n",
       "    <tr>\n",
       "      <th>11/30/97</th>\n",
       "      <td>304650</td>\n",
       "    </tr>\n",
       "    <tr>\n",
       "      <th>12/31/97</th>\n",
       "      <td>312350</td>\n",
       "    </tr>\n",
       "    <tr>\n",
       "      <th>4/30/98</th>\n",
       "      <td>315500</td>\n",
       "    </tr>\n",
       "    <tr>\n",
       "      <th>1/31/98</th>\n",
       "      <td>317800</td>\n",
       "    </tr>\n",
       "    <tr>\n",
       "      <th>1/31/99</th>\n",
       "      <td>322850</td>\n",
       "    </tr>\n",
       "    <tr>\n",
       "      <th>6/30/98</th>\n",
       "      <td>330125</td>\n",
       "    </tr>\n",
       "    <tr>\n",
       "      <th>8/31/98</th>\n",
       "      <td>332975</td>\n",
       "    </tr>\n",
       "    <tr>\n",
       "      <th>5/31/98</th>\n",
       "      <td>333250</td>\n",
       "    </tr>\n",
       "    <tr>\n",
       "      <th>2/28/99</th>\n",
       "      <td>333850</td>\n",
       "    </tr>\n",
       "    <tr>\n",
       "      <th>...</th>\n",
       "      <td>...</td>\n",
       "    </tr>\n",
       "    <tr>\n",
       "      <th>12/31/13</th>\n",
       "      <td>844650</td>\n",
       "    </tr>\n",
       "    <tr>\n",
       "      <th>7/31/13</th>\n",
       "      <td>849500</td>\n",
       "    </tr>\n",
       "    <tr>\n",
       "      <th>10/31/13</th>\n",
       "      <td>849750</td>\n",
       "    </tr>\n",
       "    <tr>\n",
       "      <th>5/31/13</th>\n",
       "      <td>859675</td>\n",
       "    </tr>\n",
       "    <tr>\n",
       "      <th>6/30/13</th>\n",
       "      <td>859825</td>\n",
       "    </tr>\n",
       "    <tr>\n",
       "      <th>1/31/14</th>\n",
       "      <td>867000</td>\n",
       "    </tr>\n",
       "    <tr>\n",
       "      <th>11/30/13</th>\n",
       "      <td>877750</td>\n",
       "    </tr>\n",
       "    <tr>\n",
       "      <th>2/28/14</th>\n",
       "      <td>894100</td>\n",
       "    </tr>\n",
       "    <tr>\n",
       "      <th>4/30/14</th>\n",
       "      <td>941000</td>\n",
       "    </tr>\n",
       "    <tr>\n",
       "      <th>3/31/14</th>\n",
       "      <td>943500</td>\n",
       "    </tr>\n",
       "    <tr>\n",
       "      <th>5/31/14</th>\n",
       "      <td>949000</td>\n",
       "    </tr>\n",
       "    <tr>\n",
       "      <th>9/30/14</th>\n",
       "      <td>954000</td>\n",
       "    </tr>\n",
       "    <tr>\n",
       "      <th>1/31/15</th>\n",
       "      <td>963250</td>\n",
       "    </tr>\n",
       "    <tr>\n",
       "      <th>6/30/14</th>\n",
       "      <td>966550</td>\n",
       "    </tr>\n",
       "    <tr>\n",
       "      <th>8/31/14</th>\n",
       "      <td>967750</td>\n",
       "    </tr>\n",
       "    <tr>\n",
       "      <th>10/31/14</th>\n",
       "      <td>973250</td>\n",
       "    </tr>\n",
       "    <tr>\n",
       "      <th>7/31/14</th>\n",
       "      <td>988450</td>\n",
       "    </tr>\n",
       "    <tr>\n",
       "      <th>12/31/14</th>\n",
       "      <td>1002675</td>\n",
       "    </tr>\n",
       "    <tr>\n",
       "      <th>2/28/15</th>\n",
       "      <td>1020875</td>\n",
       "    </tr>\n",
       "    <tr>\n",
       "      <th>11/30/14</th>\n",
       "      <td>1024825</td>\n",
       "    </tr>\n",
       "    <tr>\n",
       "      <th>9/30/15</th>\n",
       "      <td>1080750</td>\n",
       "    </tr>\n",
       "    <tr>\n",
       "      <th>10/31/15</th>\n",
       "      <td>1093250</td>\n",
       "    </tr>\n",
       "    <tr>\n",
       "      <th>4/30/15</th>\n",
       "      <td>1115500</td>\n",
       "    </tr>\n",
       "    <tr>\n",
       "      <th>7/31/15</th>\n",
       "      <td>1124000</td>\n",
       "    </tr>\n",
       "    <tr>\n",
       "      <th>5/31/15</th>\n",
       "      <td>1125350</td>\n",
       "    </tr>\n",
       "    <tr>\n",
       "      <th>11/30/15</th>\n",
       "      <td>1126750</td>\n",
       "    </tr>\n",
       "    <tr>\n",
       "      <th>12/31/15</th>\n",
       "      <td>1138500</td>\n",
       "    </tr>\n",
       "    <tr>\n",
       "      <th>8/31/15</th>\n",
       "      <td>1138750</td>\n",
       "    </tr>\n",
       "    <tr>\n",
       "      <th>6/30/15</th>\n",
       "      <td>1156000</td>\n",
       "    </tr>\n",
       "    <tr>\n",
       "      <th>3/31/15</th>\n",
       "      <td>1185250</td>\n",
       "    </tr>\n",
       "  </tbody>\n",
       "</table>\n",
       "<p>237 rows × 1 columns</p>\n",
       "</div>"
      ],
      "text/plain": [
       "          SFHomeValue\n",
       "Date                 \n",
       "10/31/96       250400\n",
       "11/30/96       255350\n",
       "4/30/96        259300\n",
       "9/30/96        262600\n",
       "12/31/96       263750\n",
       "5/31/96        265700\n",
       "1/31/97        268250\n",
       "8/31/96        268650\n",
       "2/28/97        268800\n",
       "3/31/97        271850\n",
       "7/31/96        273000\n",
       "6/30/96        274250\n",
       "4/30/97        280350\n",
       "5/31/97        281875\n",
       "7/31/97        283250\n",
       "6/30/97        283625\n",
       "8/31/97        289300\n",
       "9/30/97        295700\n",
       "10/31/97       298750\n",
       "2/28/98        299700\n",
       "3/31/98        301000\n",
       "11/30/97       304650\n",
       "12/31/97       312350\n",
       "4/30/98        315500\n",
       "1/31/98        317800\n",
       "1/31/99        322850\n",
       "6/30/98        330125\n",
       "8/31/98        332975\n",
       "5/31/98        333250\n",
       "2/28/99        333850\n",
       "...               ...\n",
       "12/31/13       844650\n",
       "7/31/13        849500\n",
       "10/31/13       849750\n",
       "5/31/13        859675\n",
       "6/30/13        859825\n",
       "1/31/14        867000\n",
       "11/30/13       877750\n",
       "2/28/14        894100\n",
       "4/30/14        941000\n",
       "3/31/14        943500\n",
       "5/31/14        949000\n",
       "9/30/14        954000\n",
       "1/31/15        963250\n",
       "6/30/14        966550\n",
       "8/31/14        967750\n",
       "10/31/14       973250\n",
       "7/31/14        988450\n",
       "12/31/14      1002675\n",
       "2/28/15       1020875\n",
       "11/30/14      1024825\n",
       "9/30/15       1080750\n",
       "10/31/15      1093250\n",
       "4/30/15       1115500\n",
       "7/31/15       1124000\n",
       "5/31/15       1125350\n",
       "11/30/15      1126750\n",
       "12/31/15      1138500\n",
       "8/31/15       1138750\n",
       "6/30/15       1156000\n",
       "3/31/15       1185250\n",
       "\n",
       "[237 rows x 1 columns]"
      ]
     },
     "execution_count": 28,
     "metadata": {},
     "output_type": "execute_result"
    }
   ],
   "source": [
    "df2.sort(columns='SFHomeValue')"
   ]
  },
  {
   "cell_type": "code",
   "execution_count": 29,
   "metadata": {
    "collapsed": false
   },
   "outputs": [],
   "source": [
    "df3 = df2[df2.SFHomeValue > 1000000]\n"
   ]
  },
  {
   "cell_type": "code",
   "execution_count": 30,
   "metadata": {
    "collapsed": false
   },
   "outputs": [
    {
     "data": {
      "text/html": [
       "<div>\n",
       "<table border=\"1\" class=\"dataframe\">\n",
       "  <thead>\n",
       "    <tr style=\"text-align: right;\">\n",
       "      <th></th>\n",
       "      <th>SFHomeValue</th>\n",
       "    </tr>\n",
       "    <tr>\n",
       "      <th>Date</th>\n",
       "      <th></th>\n",
       "    </tr>\n",
       "  </thead>\n",
       "  <tbody>\n",
       "    <tr>\n",
       "      <th>12/31/15</th>\n",
       "      <td>False</td>\n",
       "    </tr>\n",
       "    <tr>\n",
       "      <th>11/30/15</th>\n",
       "      <td>False</td>\n",
       "    </tr>\n",
       "    <tr>\n",
       "      <th>10/31/15</th>\n",
       "      <td>False</td>\n",
       "    </tr>\n",
       "    <tr>\n",
       "      <th>9/30/15</th>\n",
       "      <td>False</td>\n",
       "    </tr>\n",
       "    <tr>\n",
       "      <th>8/31/15</th>\n",
       "      <td>False</td>\n",
       "    </tr>\n",
       "    <tr>\n",
       "      <th>7/31/15</th>\n",
       "      <td>False</td>\n",
       "    </tr>\n",
       "    <tr>\n",
       "      <th>6/30/15</th>\n",
       "      <td>False</td>\n",
       "    </tr>\n",
       "    <tr>\n",
       "      <th>5/31/15</th>\n",
       "      <td>False</td>\n",
       "    </tr>\n",
       "    <tr>\n",
       "      <th>4/30/15</th>\n",
       "      <td>False</td>\n",
       "    </tr>\n",
       "    <tr>\n",
       "      <th>3/31/15</th>\n",
       "      <td>False</td>\n",
       "    </tr>\n",
       "    <tr>\n",
       "      <th>2/28/15</th>\n",
       "      <td>False</td>\n",
       "    </tr>\n",
       "    <tr>\n",
       "      <th>12/31/14</th>\n",
       "      <td>False</td>\n",
       "    </tr>\n",
       "    <tr>\n",
       "      <th>11/30/14</th>\n",
       "      <td>False</td>\n",
       "    </tr>\n",
       "  </tbody>\n",
       "</table>\n",
       "</div>"
      ],
      "text/plain": [
       "         SFHomeValue\n",
       "Date                \n",
       "12/31/15       False\n",
       "11/30/15       False\n",
       "10/31/15       False\n",
       "9/30/15        False\n",
       "8/31/15        False\n",
       "7/31/15        False\n",
       "6/30/15        False\n",
       "5/31/15        False\n",
       "4/30/15        False\n",
       "3/31/15        False\n",
       "2/28/15        False\n",
       "12/31/14       False\n",
       "11/30/14       False"
      ]
     },
     "execution_count": 30,
     "metadata": {},
     "output_type": "execute_result"
    }
   ],
   "source": [
    "pd.isnull(df3)  #Looking for missing values - output is boolean - True if there is any missing value"
   ]
  },
  {
   "cell_type": "markdown",
   "metadata": {},
   "source": [
    "# Next Steps\n",
    "\n",
    "**Recommended Resources**\n",
    "\n",
    "Name | Description\n",
    "--- | ---\n",
    "[Official Pandas Tutorials](http://pandas.pydata.org/pandas-docs/stable/tutorials.html) | Wes & Company's selection of tutorials and lectures\n",
    "[Julia Evans Pandas Cookbook](https://github.com/jvns/pandas-cookbook) | Great resource with examples from weather, bikes and 311 calls\n",
    "[Learn Pandas Tutorials](https://bitbucket.org/hrojas/learn-pandas) | A great series of Pandas tutorials from Dave Rojas\n",
    "[Research Computing Python Data PYNBs](https://github.com/ResearchComputing/Meetup-Fall-2013/tree/master/python) | A super awesome set of python notebooks from a meetup-based course exclusively devoted to pandas"
   ]
  }
 ],
 "metadata": {
  "kernelspec": {
   "display_name": "Python 2",
   "language": "python",
   "name": "python2"
  },
  "language_info": {
   "codemirror_mode": {
    "name": "ipython",
    "version": 2
   },
   "file_extension": ".py",
   "mimetype": "text/x-python",
   "name": "python",
   "nbconvert_exporter": "python",
   "pygments_lexer": "ipython2",
   "version": "2.7.11"
  }
 },
 "nbformat": 4,
 "nbformat_minor": 0
}
